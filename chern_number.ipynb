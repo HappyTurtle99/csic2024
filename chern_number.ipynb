{
 "cells": [
  {
   "cell_type": "code",
   "execution_count": 16,
   "metadata": {},
   "outputs": [
    {
     "name": "stdout",
     "output_type": "stream",
     "text": [
      "[(1672, 0.9756631329243645), (5000, 0)]\n",
      "[(632, 0.9999511014739035), (1667, -0.9375337134131349), (3586, 0.9999549171845462), (3841, -0.9999730747553166), (5000, 0)]\n"
     ]
    },
    {
     "data": {
      "text/plain": [
       "<Figure size 640x480 with 0 Axes>"
      ]
     },
     "metadata": {},
     "output_type": "display_data"
    }
   ],
   "source": [
    "import os\n",
    "import datetime\n",
    "import numpy as np\n",
    "import matplotlib.pyplot as plt\n",
    "from numpy import linalg as LA\n",
    "from mpl_toolkits import mplot3d\n",
    "from helper_functions import *\n",
    "from system_theta import system_theta\n",
    "\n",
    "#generate jose BZ boundary path\n",
    "def gen_delbz_jose(N, deltaK):\n",
    "    pt1 = deltaK * np.array([0, 1])\n",
    "    pt2 = deltaK * np.array([np.sqrt(3) / 2, -0.5])\n",
    "    pt3 = deltaK * np.array([0, -2])\n",
    "    pt4 = deltaK * np.array([-np.sqrt(3) / 2, -0.5])\n",
    "\n",
    "    path1 = generate_path_special(N // 4, pt1, pt4, 0)\n",
    "    path2 = generate_path_special(N // 4, pt2, pt3, 1)\n",
    "    path3 = generate_path_special(N // 4, pt4, pt3, 1)\n",
    "    path4 = generate_path_special(N // 4, pt1, pt2, 0)\n",
    "\n",
    "    #for our purposes we compare paths 1 and 2 and 3 and 4\n",
    "\n",
    "    out1 = np.zeros((N // 4, 2, 2))\n",
    "    out2 = np.zeros((N // 4, 2, 2))\n",
    "\n",
    "    out1[:, 0, :] = path1\n",
    "    out1[:, 1, :] = path2\n",
    "    out2[:, 0, :] = path3\n",
    "    out2[:, 1, :] = path4\n",
    "\n",
    "    return out1, out2\n",
    "\n",
    "#for checking whether wf's are actually the same\n",
    "def comp(gs1, gs2):\n",
    "    out = np.zeros_like(gs1)\n",
    "    for i in range(len(gs1)):\n",
    "        np.abs(gs1[i]) - np.abs(gs2[i])\n",
    "    return LA.norm(out)\n",
    "\n",
    "def get_phase_diff(system, path1, path2, U):\n",
    "    phase_diff = np.zeros(len(path1))\n",
    "    disc_indices = []\n",
    "    prev_phi1, prev_phi2 = 0, 0\n",
    "\n",
    "    for i in range(len(path1)):\n",
    "        kx = path1[i, 0]\n",
    "        ky = path1[i, 1]\n",
    "        gs1 = leveln(kx, ky, system.Qs, system.deltaK, system.t, system.theta, system.vf, 0, N=None, U=U)\n",
    "        \n",
    "        kx = path2[i, 0]\n",
    "        ky = path2[i, 1]\n",
    "        gs2 = leveln(kx, ky, system.Qs, system.deltaK, system.t, system.theta, system.vf, 0, N=None, U=U)\n",
    "\n",
    "        midband = gs1.shape[0] // 2\n",
    "\n",
    "        gs1 = gs1 * np.exp(-1j * np.angle(gs1[midband]))\n",
    "        gs2 = gs2 * np.exp(-1j * np.angle(gs2[midband]))\n",
    "\n",
    "        ph1 = np.dot(np.ones(gs1.shape[0]), gs1) / np.sqrt(gs1.shape[0])\n",
    "        ph2 = np.dot(np.ones(gs2.shape[0]), gs2) / np.sqrt(gs1.shape[0])\n",
    "\n",
    "        phase_diff[i] = (np.angle(ph1) - np.angle(ph2)) / (2 * np.pi)\n",
    "\n",
    "        phi1_temp, phi2_temp = np.angle(ph1), np.angle(ph2)\n",
    "\n",
    "        bound = 0.5 * np.pi\n",
    "\n",
    "        if i > 0 and np.abs(phi1_temp - prev_phi1) > bound:\n",
    "            disc_indices.append((i, (phi1_temp - prev_phi1)/np.pi/2))\n",
    "        elif i > 0 and np.abs(phi2_temp - prev_phi2) > bound:\n",
    "            disc_indices.append((i, -(phi2_temp - prev_phi2)/np.pi/2))\n",
    "\n",
    "        prev_phi1, prev_phi2 = phi1_temp, phi2_temp\n",
    "\n",
    "    disc_indices.append((len(path1), 0))\n",
    "    print(disc_indices)\n",
    "\n",
    "    return phase_diff, disc_indices\n",
    "\n",
    "def integrate_phase_diff(N, theta, U):\n",
    "    system = system_theta(theta)\n",
    "    #first pair of sides and second pair of sides\n",
    "    delbz_p1, delbz_p2 = gen_delbz_jose(N, system.deltaK)\n",
    "    path1, path2 = delbz_p1[:, 0, :], delbz_p1[:, 1, :]\n",
    "    phase_diffs1, disc_indices1 = get_phase_diff(system, path1, path2, U)\n",
    "\n",
    "    path3, path4 = delbz_p2[:, 0, :], delbz_p2[:, 1, :]\n",
    "    phase_diffs2, disc_indices2 = get_phase_diff(system, path3, path4, U)\n",
    "    \n",
    "    phase_diffs1 = remove_discontinuities(phase_diffs1, disc_indices1)\n",
    "    phase_diffs2 = remove_discontinuities(phase_diffs2, disc_indices2)\n",
    "\n",
    "    return phase_diffs1, phase_diffs2\n",
    "\n",
    "def remove_discontinuities(phase_diffs, disc_indices):\n",
    "    temp, _ = disc_indices[0]\n",
    "    tot_disc = 0\n",
    "\n",
    "    for d in disc_indices:\n",
    "        index, disc = d\n",
    "        if index !=temp:\n",
    "            for i in range(temp, index):\n",
    "                phase_diffs[i] -= tot_disc\n",
    "            temp = index\n",
    "        tot_disc += disc\n",
    "\n",
    "    return phase_diffs\n",
    "\n",
    "def save_plots_phase_diff(N, theta, U):\n",
    "\n",
    "    sgn = 1\n",
    "\n",
    "    folder = \"phase_diff_plots_staggeredV\"\n",
    "    file_name = f'{np.degrees(theta)}, staggeredV={U},_{datetime.datetime.now().strftime(\"%Y-%m-%d_%H-%M-%S\")}'\n",
    "\n",
    "    if not os.path.exists(folder):\n",
    "        os.makedirs(folder)\n",
    "\n",
    "    rootpath = os.path.join(folder, file_name)\n",
    "    phase_diffs1, phase_diffs2 = integrate_phase_diff(N, theta, U)\n",
    "    x_axis = np.arange(len(phase_diffs1))\n",
    "\n",
    "    plt.plot(x_axis, phase_diffs1)\n",
    "    plt.title(\"Phase difference between paths 1 and 2\")\n",
    "    plt.xlabel(\"Index\")\n",
    "    plt.ylabel(\"Phase Difference\")\n",
    "    plt.savefig(rootpath + \" dphi1.png\")\n",
    "    plt.clf()\n",
    "\n",
    "    plt.plot(x_axis, phase_diffs2)\n",
    "    plt.title(\"Phase difference between paths 3 and 4\")\n",
    "    plt.xlabel(\"Index\")\n",
    "    plt.ylabel(\"Phase Difference\")\n",
    "    plt.savefig(rootpath + \" dphi2.png\")\n",
    "    plt.clf()\n",
    "\n",
    "    x_axis = np.arange(len(phase_diffs1) + len(phase_diffs2))\n",
    "    new_plot = np.zeros(2 * len(phase_diffs1))\n",
    "    new_plot[:len(phase_diffs1)] = phase_diffs1 - phase_diffs1[0]\n",
    "    new_plot[len(phase_diffs1):] = (phase_diffs2-phase_diffs2[0]) + new_plot[len(phase_diffs1)-1]\n",
    "\n",
    "    plt.plot(x_axis, new_plot)\n",
    "    plt.title(\"Total phase?\")\n",
    "    plt.xlabel(\"Index\")\n",
    "    plt.ylabel(\"Phase Difference\")\n",
    "    plt.savefig(rootpath + \" total phase?.png\")\n",
    "    plt.clf()\n",
    "\n",
    "    content = f'Differences: \\n Phase difference 1 {new_plot[len(phase_diffs1)-1]} \\n Phase difference final {new_plot[-1]} \\n'\n",
    "    with open(rootpath + \".txt\", \"w\") as text_file:\n",
    "        text_file.write(content)\n",
    "\n",
    "#this checks equality of wavefunctions\n",
    "def check_wfs(theta, U):\n",
    "    system = system_theta(theta)\n",
    "    N = 200\n",
    "    delbz_p1, delbz_p2 = gen_delbz_jose(N * 4, system.deltaK)\n",
    "    path1, path2 = delbz_p1[:, 0, :], delbz_p1[:, 1, :]\n",
    "    path3, path4 = delbz_p2[:, 0, :], delbz_p2[:, 1, :]\n",
    "    comps = np.ones(5)\n",
    "\n",
    "    step = int(np.round(N / 4)) - 1\n",
    "\n",
    "    for e in range(5):\n",
    "        i = int(e * step)\n",
    "        kx = path1[i, 0]\n",
    "        ky = path1[i, 1]\n",
    "        gs1 = leveln(kx, ky, system.Qs, system.deltaK, system.t, system.theta, system.vf, 0, N=None, U=U)\n",
    "        \n",
    "        kx = path3[i, 0]\n",
    "        ky = path3[i, 1]\n",
    "        gs2 = leveln(kx, ky, system.Qs, system.deltaK, system.t, system.theta, system.vf, 0, N=None, U=U)\n",
    "\n",
    "        if np.array_equal(gs1, gs2):\n",
    "            print('calamity')\n",
    "            return\n",
    "        comps[e] = comp(gs1, gs2)\n",
    "    return comps\n",
    "\n",
    "#this checks for where the minima are, to see if they move.\n",
    "def check_wfs2(theta, U):\n",
    "    system = system_theta(theta)\n",
    "    N = 200\n",
    "    delbz_p1, _ = gen_delbz_jose(N * 4, system.deltaK)\n",
    "    path1, path2 = delbz_p1[:, 0, :], delbz_p1[:, 1, :]\n",
    "    comps = np.ones(200)\n",
    "\n",
    "    step = int(np.round(N / 4)) - 1\n",
    "\n",
    "    vecs = []\n",
    "    \n",
    "    for i in range(200):\n",
    "        kx = path1[i, 0]\n",
    "        ky = path1[i, 1]\n",
    "        gs1 = leveln(kx, ky, system.Qs, system.deltaK, system.t, system.theta, system.vf, 0, N=None, U=U)\n",
    "\n",
    "        min_index = np.argmax(np.abs(gs1))\n",
    "        max_index = np.argmin(np.abs(gs1))\n",
    "\n",
    "        comps[i] = (gs1[min_index] - gs1[max_index]) / np.abs(gs1[min_index])\n",
    "        if i % 40 == 0:\n",
    "            vecs.append(gs1[:3])\n",
    "    return vecs\n",
    "\n",
    "save_plots_phase_diff(20000, np.radians(10), 0.08)"
   ]
  },
  {
   "cell_type": "code",
   "execution_count": 17,
   "metadata": {},
   "outputs": [
    {
     "name": "stdout",
     "output_type": "stream",
     "text": [
      "[(2764, 0.9998933037772589), (5000, 0)]\n",
      "[(5000, 0)]\n",
      "[(1734, 0.9977507115858693), (5000, 0)]\n",
      "[(619, 0.9999191437028494), (1674, -0.9947864869761139), (5000, 0)]\n",
      "[(1700, 0.9957891562944298), (5000, 0)]\n",
      "[(623, 0.9999246807693317), (1670, -0.990354153055946), (5000, 0)]\n",
      "[(1687, 0.9934060529442338), (5000, 0)]\n",
      "[(626, 0.9999310324980876), (1668, -0.9841969179451163), (4866, -0.28988101880381223), (5000, 0)]\n",
      "[(1680, 0.9901146133585375), (5000, 0)]\n",
      "[(628, 0.9999370297006873), (1668, -0.9773579810390224), (4902, -0.25028684568932136), (5000, 0)]\n",
      "[(1676, 0.9859876705556563), (5000, 0)]\n",
      "[(630, 0.9999424278258647), (1668, -0.9695177944188965), (5000, 0)]\n",
      "[(1674, 0.9833777681037958), (5000, 0)]\n",
      "[(631, 0.9999470568289184), (1667, -0.9528651034020201), (4940, -0.315553431125654), (5000, 0)]\n"
     ]
    },
    {
     "data": {
      "text/plain": [
       "<Figure size 640x480 with 0 Axes>"
      ]
     },
     "metadata": {},
     "output_type": "display_data"
    }
   ],
   "source": [
    "angles = [1, 3.9, 5, 6, 7, 8, 9]\n",
    "for angle in angles:\n",
    "    save_plots_phase_diff(20000, np.radians(angle), 0.08)"
   ]
  },
  {
   "cell_type": "markdown",
   "metadata": {},
   "source": [
    "### Checking that the wavefunctions are the same. This is actually kind of shocking. They are very precisely the same."
   ]
  },
  {
   "cell_type": "code",
   "execution_count": 7,
   "metadata": {},
   "outputs": [
    {
     "data": {
      "text/plain": [
       "array([0., 0., 0., 0., 0.])"
      ]
     },
     "execution_count": 7,
     "metadata": {},
     "output_type": "execute_result"
    }
   ],
   "source": [
    "check_wfs(np.radians(3.9), 0.5)"
   ]
  },
  {
   "cell_type": "code",
   "execution_count": 8,
   "metadata": {},
   "outputs": [
    {
     "name": "stdout",
     "output_type": "stream",
     "text": [
      "(1.414213562373095+1.1102230246251565e-16j)\n"
     ]
    }
   ],
   "source": [
    "z = 1+1j\n",
    "\n",
    "print(z * np.exp(-1j * np.angle(z)))"
   ]
  },
  {
   "cell_type": "markdown",
   "metadata": {},
   "source": [
    "### checking the orientations"
   ]
  },
  {
   "cell_type": "code",
   "execution_count": 9,
   "metadata": {},
   "outputs": [
    {
     "name": "stderr",
     "output_type": "stream",
     "text": [
      "No artists with labels found to put in legend.  Note that artists whose label start with an underscore are ignored when legend() is called with no argument.\n"
     ]
    },
    {
     "data": {
      "image/png": "[encoded data removed]",
      "text/plain": [
       "<Figure size 640x480 with 1 Axes>"
      ]
     },
     "metadata": {},
     "output_type": "display_data"
    }
   ],
   "source": [
    "from system_theta import system_theta\n",
    "from helper_functions import *\n",
    "from matplotlib import pyplot as plt\n",
    "import matplotlib.cm as cm\n",
    "\n",
    "\n",
    "# BEGIN: Plot paths\n",
    "N = 100  # Example value for N\n",
    "theta = 0.5  # Example value for theta\n",
    "\n",
    "system = system_theta(theta)\n",
    "delbz_p1, delbz_p2 = gen_delbz_jose(N, system.deltaK)\n",
    "\n",
    "path1, path2 = delbz_p1[:, 0, :], delbz_p1[:, 1, :]\n",
    "path3, path4 = delbz_p2[:, 0, :], delbz_p2[:, 1, :]\n",
    "\n",
    "# plt.plot(path1[:, 0], path1[:, 1], label='Path 1', color='blue')\n",
    "# plt.plot(path2[:, 0], path2[:, 1], label='Path 2', color='green')\n",
    "# plt.plot(path3[:, 0], path3[:, 1], label='Path 3', color='red')\n",
    "# plt.plot(path4[:, 0], path4[:, 1], label='Path 4', color='purple')\n",
    "\n",
    "# Generate colors based on the index\n",
    "colors1 = cm.viridis(np.linspace(0, 1, len(path1)))\n",
    "colors2 = cm.plasma(np.linspace(0, 1, len(path2)))\n",
    "colors3 = cm.inferno(np.linspace(0, 1, len(path3)))\n",
    "colors4 = cm.magma(np.linspace(0, 1, len(path4)))\n",
    "\n",
    "# Plot paths with changing colors\n",
    "for i in range(len(path1)):\n",
    "    plt.plot(path1[i:i+2, 0], path1[i:i+2, 1], color=colors1[i])\n",
    "    plt.plot(path2[i:i+2, 0], path2[i:i+2, 1], color=colors2[i])\n",
    "    plt.plot(path3[i:i+2, 0], path3[i:i+2, 1], color=colors3[i])\n",
    "    plt.plot(path4[i:i+2, 0], path4[i:i+2, 1], color=colors4[i])\n",
    "\n",
    "plt.xlabel('kx')\n",
    "plt.ylabel('ky')\n",
    "plt.title('Paths traced out by delbz')\n",
    "plt.legend()\n",
    "plt.show()"
   ]
  },
  {
   "cell_type": "markdown",
   "metadata": {},
   "source": [
    "### let's try making some plots"
   ]
  }
 ],
 "metadata": {
  "kernelspec": {
   "display_name": "fracton",
   "language": "python",
   "name": "fracton"
  },
  "language_info": {
   "codemirror_mode": {
    "name": "ipython",
    "version": 3
   },
   "file_extension": ".py",
   "mimetype": "text/x-python",
   "name": "python",
   "nbconvert_exporter": "python",
   "pygments_lexer": "ipython3",
   "version": "3.9.19"
  }
 },
 "nbformat": 4,
 "nbformat_minor": 2
}
